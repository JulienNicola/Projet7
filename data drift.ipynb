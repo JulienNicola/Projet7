{
 "cells": [
  {
   "cell_type": "code",
   "execution_count": 1,
   "id": "c48854e5",
   "metadata": {},
   "outputs": [],
   "source": [
    "import evidently\n",
    "import time\n",
    "from evidently.report import Report\n",
    "from evidently.metric_preset import DataDriftPreset\n",
    "from evidently import ColumnMapping\n",
    "import pandas as pd\n",
    "import numpy as np"
   ]
  },
  {
   "cell_type": "code",
   "execution_count": 2,
   "id": "9d051483",
   "metadata": {},
   "outputs": [
    {
     "data": {
      "text/plain": [
       "Index(['Unnamed: 0', 'SK_ID_CURR', 'TARGET', 'CODE_GENDER', 'FLAG_OWN_CAR',\n",
       "       'FLAG_OWN_REALTY', 'CNT_CHILDREN', 'AMT_INCOME_TOTAL', 'AMT_CREDIT',\n",
       "       'AMT_ANNUITY',\n",
       "       ...\n",
       "       'CC_NAME_CONTRACT_STATUS_Signed_MEAN',\n",
       "       'CC_NAME_CONTRACT_STATUS_Signed_SUM',\n",
       "       'CC_NAME_CONTRACT_STATUS_Signed_VAR', 'CC_NAME_CONTRACT_STATUS_nan_MIN',\n",
       "       'CC_NAME_CONTRACT_STATUS_nan_MAX', 'CC_NAME_CONTRACT_STATUS_nan_MEAN',\n",
       "       'CC_NAME_CONTRACT_STATUS_nan_SUM', 'CC_NAME_CONTRACT_STATUS_nan_VAR',\n",
       "       'CC_COUNT', 'score'],\n",
       "      dtype='object', length=799)"
      ]
     },
     "execution_count": 2,
     "metadata": {},
     "output_type": "execute_result"
    }
   ],
   "source": [
    "application_train = pd.read_csv(r'~/OC/P7/Data/data_sample.csv')\n",
    "application_train.columns"
   ]
  },
  {
   "cell_type": "code",
   "execution_count": 3,
   "id": "2c5917c8",
   "metadata": {},
   "outputs": [
    {
     "data": {
      "text/plain": [
       "Index(['Unnamed: 0', 'SK_ID_CURR', 'TARGET', 'CODE_GENDER', 'FLAG_OWN_CAR',\n",
       "       'FLAG_OWN_REALTY', 'CNT_CHILDREN', 'AMT_INCOME_TOTAL', 'AMT_CREDIT',\n",
       "       'AMT_ANNUITY',\n",
       "       ...\n",
       "       'CC_NAME_CONTRACT_STATUS_Signed_MAX',\n",
       "       'CC_NAME_CONTRACT_STATUS_Signed_MEAN',\n",
       "       'CC_NAME_CONTRACT_STATUS_Signed_SUM',\n",
       "       'CC_NAME_CONTRACT_STATUS_Signed_VAR', 'CC_NAME_CONTRACT_STATUS_nan_MIN',\n",
       "       'CC_NAME_CONTRACT_STATUS_nan_MAX', 'CC_NAME_CONTRACT_STATUS_nan_MEAN',\n",
       "       'CC_NAME_CONTRACT_STATUS_nan_SUM', 'CC_NAME_CONTRACT_STATUS_nan_VAR',\n",
       "       'CC_COUNT'],\n",
       "      dtype='object', length=798)"
      ]
     },
     "execution_count": 3,
     "metadata": {},
     "output_type": "execute_result"
    }
   ],
   "source": [
    "application_test = pd.read_csv(r'~/OC/P7/Data/data_test.csv')\n",
    "application_test.columns"
   ]
  },
  {
   "cell_type": "code",
   "execution_count": 4,
   "id": "a8332b87",
   "metadata": {},
   "outputs": [
    {
     "data": {
      "text/plain": [
       "(10000, 798)"
      ]
     },
     "execution_count": 4,
     "metadata": {},
     "output_type": "execute_result"
    }
   ],
   "source": [
    "application_train.drop(\"score\", axis=1, inplace=True)\n",
    "application_train.shape"
   ]
  },
  {
   "cell_type": "code",
   "execution_count": 5,
   "id": "b566a60f",
   "metadata": {},
   "outputs": [
    {
     "data": {
      "text/plain": [
       "(48744, 798)"
      ]
     },
     "execution_count": 5,
     "metadata": {},
     "output_type": "execute_result"
    }
   ],
   "source": [
    "application_test.shape"
   ]
  },
  {
   "cell_type": "code",
   "execution_count": 6,
   "id": "a3785a63",
   "metadata": {},
   "outputs": [
    {
     "name": "stdout",
     "output_type": "stream",
     "text": [
      "Les colonnes correspondent!\n"
     ]
    }
   ],
   "source": [
    "#Pour les colonnes catégorielles on va ne prendre que les colonnes ayant que des 0 et des 1\n",
    "categorical_columns = []\n",
    "\n",
    "# Parcourir chaque colonne\n",
    "for col in application_train.columns:\n",
    "    # Récupérer les valeurs uniques de la colonne\n",
    "    unique_vals = set(application_train[col].unique())\n",
    "\n",
    "    # Vérifier si les valeurs uniques sont uniquement 0, 1, et potentiellement NaN\n",
    "    if unique_vals.issubset({0, 1, np.nan}):\n",
    "        categorical_columns.append(col)\n",
    "\n",
    "numerical_columns = [col for col in application_train.columns if col not in categorical_columns]\n",
    "\n",
    "\n",
    "# Vérifiez que vos deux DataFrames ont exactement les mêmes colonnes\n",
    "assert set(application_train.columns) == set(application_test.columns)\n",
    "\n",
    "# Si l'assertion est réussie, cela signifie que les colonnes correspondent\n",
    "print(\"Les colonnes correspondent!\")\n"
   ]
  },
  {
   "cell_type": "code",
   "execution_count": 11,
   "id": "853ffcd2",
   "metadata": {},
   "outputs": [
    {
     "name": "stdout",
     "output_type": "stream",
     "text": [
      "Création du data_drift_report\n"
     ]
    }
   ],
   "source": [
    "# Création du column mapping\n",
    "column_mapping = ColumnMapping()\n",
    "\n",
    "column_mapping.numerical_features = numerical_columns\n",
    "column_mapping.categorical_features = categorical_columns\n",
    "\n",
    "# Créer le rapport de dérive des données\n",
    "data_drift_report = Report(metrics=[\n",
    "    DataDriftPreset(num_stattest='ks', cat_stattest='psi', num_stattest_threshold=0.1, cat_stattest_threshold=0.2),\n",
    "])\n",
    "\n",
    "print(\"Création du data_drift_report\")"
   ]
  },
  {
   "cell_type": "code",
   "execution_count": null,
   "id": "028e3d1e",
   "metadata": {},
   "outputs": [],
   "source": [
    "start_time=time.time()\n",
    "data_drift_report.run(reference_data=application_train, current_data=application_test, column_mapping=column_mapping)\n",
    "\n",
    "print(\"Run du data_drift_report\")\n",
    "\n",
    "elapsed_time_fit = time.time() - start_time\n",
    "print(elapsed_time_fit)"
   ]
  },
  {
   "cell_type": "code",
   "execution_count": 10,
   "id": "b445ef23",
   "metadata": {},
   "outputs": [],
   "source": [
    "# Sauvegardez le rapport en tant que fichier HTML\n",
    "data_drift_report.save_html('Data/data_drift_report.html')"
   ]
  }
 ],
 "metadata": {
  "kernelspec": {
   "display_name": "P7",
   "language": "python",
   "name": "p7"
  },
  "language_info": {
   "codemirror_mode": {
    "name": "ipython",
    "version": 3
   },
   "file_extension": ".py",
   "mimetype": "text/x-python",
   "name": "python",
   "nbconvert_exporter": "python",
   "pygments_lexer": "ipython3",
   "version": "3.10.12"
  }
 },
 "nbformat": 4,
 "nbformat_minor": 5
}
